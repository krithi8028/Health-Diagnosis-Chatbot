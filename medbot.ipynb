{
 "cells": [
  {
   "cell_type": "code",
   "execution_count": 1,
   "metadata": {
    "execution": {
     "iopub.execute_input": "2025-04-05T04:33:27.247764Z",
     "iopub.status.busy": "2025-04-05T04:33:27.247398Z",
     "iopub.status.idle": "2025-04-05T04:33:28.536743Z",
     "shell.execute_reply": "2025-04-05T04:33:28.535135Z",
     "shell.execute_reply.started": "2025-04-05T04:33:27.247733Z"
    }
   },
   "outputs": [
    {
     "name": "stdout",
     "output_type": "stream",
     "text": [
      "Dataset with 100 rows created as 'medical_symptoms_100.csv'\n"
     ]
    }
   ],
   "source": [
    "import pandas as pd\n",
    "from io import StringIO\n",
    "\n",
    "# 100-row medical symptom dataset\n",
    "data = \"\"\"\n",
    "Disease,Symptom,Description\n",
    "Common Cold,\"['runny nose', 'sore throat', 'cough', 'sneezing']\",\"Viral infection of upper respiratory tract\"\n",
    "Influenza,\"['fever', 'body aches', 'fatigue', 'headache']\",\"Viral infection causing systemic symptoms\"\n",
    "Allergies,\"['sneezing', 'itchy eyes', 'nasal congestion']\",\"Immune response to environmental triggers\"\n",
    "Migraine,\"['throbbing headache', 'nausea', 'light sensitivity']\",\"Neurological condition with severe headaches\"\n",
    "Gastroenteritis,\"['diarrhea', 'nausea', 'stomach cramps']\",\"Inflammation of stomach and intestines\"\n",
    "Bronchitis,\"['persistent cough', 'chest congestion', 'fatigue']\",\"Inflammation of bronchial tubes\"\n",
    "Sinusitis,\"['facial pain', 'nasal congestion', 'headache']\",\"Inflammation of sinus cavities\"\n",
    "Strep Throat,\"['sore throat', 'fever', 'swollen lymph nodes']\",\"Bacterial infection of the throat\"\n",
    "UTI,\"['burning urination', 'frequent urination', 'pelvic pain']\",\"Urinary tract infection\"\n",
    "Pneumonia,\"['cough', 'fever', 'shortness of breath']\",\"Lung infection causing inflammation\"\n",
    "Common Cold,\"['congestion', 'mild fever', 'sore throat']\",\"Mild viral infection affecting nose and throat\"\n",
    "Influenza,\"['high fever', 'chills', 'muscle pain']\",\"Acute respiratory illness with systemic effects\"\n",
    "Allergies,\"['watery eyes', 'sneezing fits', 'postnasal drip']\",\"Hypersensitivity reaction to allergens\"\n",
    "Migraine,\"['aura', 'vomiting', 'sound sensitivity']\",\"Severe headache disorder with sensory disturbances\"\n",
    "Gastroenteritis,\"['vomiting', 'dehydration', 'loss of appetite']\",\"Acute inflammation of gastrointestinal tract\"\n",
    "Bronchitis,\"['wheezing', 'shortness of breath', 'mucus production']\",\"Lower respiratory tract inflammation\"\n",
    "Sinusitis,\"['toothache', 'bad breath', 'green nasal discharge']\",\"Bacterial or viral sinus infection\"\n",
    "Strep Throat,\"['white patches on throat', 'difficulty swallowing']\",\"Streptococcal pharyngitis infection\"\n",
    "UTI,\"['cloudy urine', 'strong urine odor', 'pelvic pressure']\",\"Bacterial infection in urinary system\"\n",
    "Pneumonia,\"['chest pain', 'sweating', 'rapid breathing']\",\"Alveolar inflammation in lungs\"\n",
    "Common Cold,\"['hoarse voice', 'mild cough', 'low energy']\",\"Upper respiratory viral infection\"\n",
    "Influenza,\"['extreme fatigue', 'dry cough', 'loss of appetite']\",\"Seasonal flu with severe exhaustion\"\n",
    "Allergies,\"['itchy throat', 'ear congestion', 'dark circles under eyes']\",\"Chronic allergic response\"\n",
    "Migraine,\"['visual disturbances', 'dizziness', 'neck pain']\",\"Neurological headache with aura symptoms\"\n",
    "Gastroenteritis,\"['bloating', 'gas', 'low-grade fever']\",\"Stomach and intestinal inflammation\"\n",
    "Bronchitis,\"['chest tightness', 'slight fever', 'wheezing']\",\"Acute bronchial tube inflammation\"\n",
    "Sinusitis,\"['ear pressure', 'reduced smell', 'jaw pain']\",\"Chronic sinus cavity inflammation\"\n",
    "Strep Throat,\"['red spots on roof of mouth', 'headache']\",\"Streptococcal bacterial infection\"\n",
    "UTI,\"['lower back pain', 'urge to urinate', 'blood in urine']\",\"Possible kidney involvement\"\n",
    "Pneumonia,\"['confusion (in elderly)', 'bluish lips', 'rapid pulse']\",\"Severe lung infection with hypoxia\"\n",
    "Common Cold,\"['slight body aches', 'watery eyes', 'tickle in throat']\",\"Mild upper respiratory infection\"\n",
    "Influenza,\"['stuffy nose', 'sore throat', 'eye pain']\",\"Viral respiratory illness with systemic effects\"\n",
    "Allergies,\"['itchy ears', 'scratchy throat', 'recurrent sneezing']\",\"Seasonal allergic rhinitis\"\n",
    "Migraine,\"['one-sided pain', 'worsened by movement', 'irritability']\",\"Unilateral headache disorder\"\n",
    "Gastroenteritis,\"['general weakness', 'muscle aches', 'mild headache']\",\"Viral stomach flu with dehydration risk\"\n",
    "Bronchitis,\"['hacking cough', 'soreness behind sternum', 'chills']\",\"Acute viral bronchitis\"\n",
    "Sinusitis,\"['pressure behind eyes', 'tooth sensitivity', 'ear fullness']\",\"Acute bacterial sinusitis\"\n",
    "Strep Throat,\"['sandpaper-like rash', 'stomach pain (in children)']\",\"Scarlet fever manifestation\"\n",
    "UTI,\"['pelvic discomfort', 'urinating small amounts']\",\"Cystitis or lower UTI\"\n",
    "Pneumonia,\"['shaking chills', 'nausea', 'diarrhea (in some cases)']\",\"Lobar pneumonia presentation\"\n",
    "Common Cold,\"['post-nasal drip', 'mild fatigue', 'occasional cough']\",\"Post-viral upper respiratory symptoms\"\n",
    "Influenza,\"['sudden onset fever', 'weakness', 'loss of taste']\",\"Acute influenza infection\"\n",
    "Allergies,\"['itchy palate', 'clear nasal discharge', 'cough']\",\"Perennial allergic rhinitis\"\n",
    "Migraine,\"['prodrome symptoms', 'yawning', 'food cravings']\",\"Premonitory phase of migraine\"\n",
    "Gastroenteritis,\"['abdominal tenderness', 'general malaise']\",\"Infectious gastroenteritis\"\n",
    "Bronchitis,\"['rattling sensation in chest', 'hoarseness']\",\"Chronic bronchitis symptoms\"\n",
    "Sinusitis,\"['thick yellow mucus', 'cough worse at night']\",\"Purulent sinus infection\"\n",
    "Strep Throat,\"['swollen tonsils', 'petechiae on palate']\",\"Acute streptococcal tonsillitis\"\n",
    "UTI,\"['feeling of incomplete emptying', 'pressure in lower abdomen']\",\"Urinary retention symptoms\"\n",
    "Pneumonia,\"['rust-colored sputum', 'mental confusion']\",\"Pneumococcal pneumonia signs\"\n",
    "Common Cold,\"['tickle in chest', 'mild ear pressure']\",\"Post-viral cough symptoms\"\n",
    "Influenza,\"['pain behind eyes', 'extreme exhaustion']\",\"Severe influenza manifestation\"\n",
    "Allergies,\"['itchy skin', 'recurrent throat clearing']\",\"Atopic allergic response\"\n",
    "Migraine,\"['neck stiffness', 'difficulty concentrating']\",\"Cervicogenic migraine features\"\n",
    "Gastroenteritis,\"['gurgling stomach', 'decreased urine output']\",\"Dehydrating gastroenteritis\"\n",
    "Bronchitis,\"['painful coughing', 'sore ribs from coughing']\",\"Persistent bronchial inflammation\"\n",
    "Sinusitis,\"['facial tenderness', 'blocked ears']\",\"Acute maxillary sinusitis\"\n",
    "Strep Throat,\"['abdominal pain in children', 'sandpaper rash']\",\"Pediatric streptococcal infection\"\n",
    "UTI,\"['fever (if kidney infection)', 'flank pain']\",\"Pyelonephritis symptoms\"\n",
    "Pneumonia,\"['grunting sounds when breathing', 'nasal flaring']\",\"Severe respiratory distress\"\n",
    "Common Cold,\"['mild swollen glands', 'scratchy throat']\",\"Lymph node response to infection\"\n",
    "Influenza,\"['sweating', 'shivering alternately']\",\"Febrile influenza symptoms\"\n",
    "Allergies,\"['itchy roof of mouth', 'snoring from congestion']\",\"Chronic allergic congestion\"\n",
    "Migraine,\"['light flashes', 'zigzag patterns in vision']\",\"Migraine with visual aura\"\n",
    "Gastroenteritis,\"['acidic taste in mouth', 'excessive thirst']\",\"Gastroesophageal reflux symptoms\"\n",
    "Bronchitis,\"['breathlessness', 'tight feeling in chest']\",\"Obstructive airway symptoms\"\n",
    "Sinusitis,\"['mucus dripping down throat', 'ear popping']\",\"Chronic postnasal drip\"\n",
    "Strep Throat,\"['difficulty opening mouth', 'red swollen tonsils']\",\"Acute tonsillar inflammation\"\n",
    "UTI,\"['foul-smelling urine', 'pelvic heaviness']\",\"Bacterial urinary infection\"\n",
    "Pneumonia,\"['shallow breathing', 'loss of appetite']\",\"Atypical pneumonia presentation\"\n",
    "Common Cold,\"['mild hoarseness', 'occasional sneezing']\",\"Laryngitis with cold symptoms\"\n",
    "Influenza,\"['joint pain', 'sensitivity to light']\",\"Systemic influenza symptoms\"\n",
    "Allergies,\"['itchy inner ears', 'recurrent sinus infections']\",\"Chronic allergic sinusitis\"\n",
    "Migraine,\"['tingling in face/hands', 'slurred speech']\",\"Complex migraine with aura\"\n",
    "Gastroenteritis,\"['pale skin', 'sunken eyes (in severe cases)']\",\"Severe dehydration signs\"\n",
    "Bronchitis,\"['blue-tinged lips (in severe cases)', 'fever over 100.4F']\",\"Hypoxic respiratory distress\"\n",
    "Sinusitis,\"['reduced sense of taste', 'earache']\",\"Olfactory dysfunction in sinusitis\"\n",
    "Strep Throat,\"['tiny red spots on tongue', 'strawberry tongue']\",\"Scarlet fever tongue signs\"\n",
    "UTI,\"['pain during intercourse', 'general unease']\",\"Chronic urinary symptoms\"\n",
    "Pneumonia,\"['clammy skin', 'fatigue disproportionate to activity']\",\"Severe systemic infection\"\n",
    "\"\"\"\n",
    "\n",
    "# Create DataFrame\n",
    "df = pd.read_csv(StringIO(data))\n",
    "\n",
    "# Save to CSV\n",
    "df.to_csv('medical_symptoms_100.csv', index=False)\n",
    "print(\"Dataset with 100 rows created as 'medical_symptoms_100.csv'\")"
   ]
  },
  {
   "cell_type": "code",
   "execution_count": 59,
   "metadata": {
    "execution": {
     "iopub.execute_input": "2025-04-05T06:22:44.144444Z",
     "iopub.status.busy": "2025-04-05T06:22:44.144026Z",
     "iopub.status.idle": "2025-04-05T06:22:44.152052Z",
     "shell.execute_reply": "2025-04-05T06:22:44.150844Z",
     "shell.execute_reply.started": "2025-04-05T06:22:44.144409Z"
    }
   },
   "outputs": [],
   "source": [
    "import pandas as pd\n",
    "data=pd.read_csv('medical_symptoms_100.csv')"
   ]
  },
  {
   "cell_type": "code",
   "execution_count": 4,
   "metadata": {
    "execution": {
     "iopub.execute_input": "2025-04-05T04:34:14.669604Z",
     "iopub.status.busy": "2025-04-05T04:34:14.669209Z",
     "iopub.status.idle": "2025-04-05T04:34:14.699024Z",
     "shell.execute_reply": "2025-04-05T04:34:14.697779Z",
     "shell.execute_reply.started": "2025-04-05T04:34:14.669572Z"
    }
   },
   "outputs": [
    {
     "data": {
      "text/html": [
       "<div>\n",
       "<style scoped>\n",
       "    .dataframe tbody tr th:only-of-type {\n",
       "        vertical-align: middle;\n",
       "    }\n",
       "\n",
       "    .dataframe tbody tr th {\n",
       "        vertical-align: top;\n",
       "    }\n",
       "\n",
       "    .dataframe thead th {\n",
       "        text-align: right;\n",
       "    }\n",
       "</style>\n",
       "<table border=\"1\" class=\"dataframe\">\n",
       "  <thead>\n",
       "    <tr style=\"text-align: right;\">\n",
       "      <th></th>\n",
       "      <th>Disease</th>\n",
       "      <th>Symptom</th>\n",
       "      <th>Description</th>\n",
       "    </tr>\n",
       "  </thead>\n",
       "  <tbody>\n",
       "    <tr>\n",
       "      <th>0</th>\n",
       "      <td>Common Cold</td>\n",
       "      <td>['runny nose', 'sore throat', 'cough', 'sneezi...</td>\n",
       "      <td>Viral infection of upper respiratory tract</td>\n",
       "    </tr>\n",
       "    <tr>\n",
       "      <th>1</th>\n",
       "      <td>Influenza</td>\n",
       "      <td>['fever', 'body aches', 'fatigue', 'headache']</td>\n",
       "      <td>Viral infection causing systemic symptoms</td>\n",
       "    </tr>\n",
       "    <tr>\n",
       "      <th>2</th>\n",
       "      <td>Allergies</td>\n",
       "      <td>['sneezing', 'itchy eyes', 'nasal congestion']</td>\n",
       "      <td>Immune response to environmental triggers</td>\n",
       "    </tr>\n",
       "    <tr>\n",
       "      <th>3</th>\n",
       "      <td>Migraine</td>\n",
       "      <td>['throbbing headache', 'nausea', 'light sensit...</td>\n",
       "      <td>Neurological condition with severe headaches</td>\n",
       "    </tr>\n",
       "    <tr>\n",
       "      <th>4</th>\n",
       "      <td>Gastroenteritis</td>\n",
       "      <td>['diarrhea', 'nausea', 'stomach cramps']</td>\n",
       "      <td>Inflammation of stomach and intestines</td>\n",
       "    </tr>\n",
       "  </tbody>\n",
       "</table>\n",
       "</div>"
      ],
      "text/plain": [
       "           Disease                                            Symptom  \\\n",
       "0      Common Cold  ['runny nose', 'sore throat', 'cough', 'sneezi...   \n",
       "1        Influenza     ['fever', 'body aches', 'fatigue', 'headache']   \n",
       "2        Allergies     ['sneezing', 'itchy eyes', 'nasal congestion']   \n",
       "3         Migraine  ['throbbing headache', 'nausea', 'light sensit...   \n",
       "4  Gastroenteritis           ['diarrhea', 'nausea', 'stomach cramps']   \n",
       "\n",
       "                                    Description  \n",
       "0    Viral infection of upper respiratory tract  \n",
       "1     Viral infection causing systemic symptoms  \n",
       "2     Immune response to environmental triggers  \n",
       "3  Neurological condition with severe headaches  \n",
       "4        Inflammation of stomach and intestines  "
      ]
     },
     "execution_count": 4,
     "metadata": {},
     "output_type": "execute_result"
    }
   ],
   "source": [
    "data.head()"
   ]
  },
  {
   "cell_type": "markdown",
   "metadata": {},
   "source": [
    "# Bag of Words"
   ]
  },
  {
   "cell_type": "code",
   "execution_count": 45,
   "metadata": {
    "execution": {
     "iopub.execute_input": "2025-04-05T05:53:16.888381Z",
     "iopub.status.busy": "2025-04-05T05:53:16.887955Z",
     "iopub.status.idle": "2025-04-05T05:53:18.759777Z",
     "shell.execute_reply": "2025-04-05T05:53:18.758577Z",
     "shell.execute_reply.started": "2025-04-05T05:53:16.888348Z"
    }
   },
   "outputs": [
    {
     "name": "stdin",
     "output_type": "stream",
     "text": [
      "Enter symptoms:  Pounding sensation on one side, bright lights unbearable\n"
     ]
    },
    {
     "name": "stdout",
     "output_type": "stream",
     "text": [
      "\n",
      "Diseases with similar symptoms:\n",
      "Strep Throat (Similarity: 0.2357)\n",
      "Migraine (Similarity: 0.0801)\n",
      "Bronchitis (Similarity: 0.0671)\n",
      "\n",
      "Predicted Disease (BoW): Strep Throat\n",
      "Explanation: The input symptoms were most similar to the symptoms of Strep Throat based on BoW vectorization, which counts word occurrences.\n",
      "\n",
      "All Symptoms of Strep Throat: ['sore throat', 'fever', 'swollen lymph nodes'] ['white patches on throat', 'difficulty swallowing'] ['red spots on roof of mouth', 'headache'] ['sandpaper-like rash', 'stomach pain (in children)'] ['swollen tonsils', 'petechiae on palate'] ['abdominal pain in children', 'sandpaper rash'] ['difficulty opening mouth', 'red swollen tonsils'] ['tiny red spots on tongue', 'strawberry tongue']\n"
     ]
    }
   ],
   "source": [
    "import pandas as pd\n",
    "from sklearn.feature_extraction.text import CountVectorizer\n",
    "from sklearn.metrics.pairwise import cosine_similarity\n",
    "import numpy as np\n",
    "\n",
    "# Extract required columns\n",
    "disease_symptoms_map = data.groupby('Disease')['Symptom'].apply(lambda x: ' '.join(x)).to_dict()\n",
    "disease_names = list(disease_symptoms_map.keys())\n",
    "disease_symptoms_list = list(disease_symptoms_map.values())\n",
    "\n",
    "# Bag of Words\n",
    "vectorizer = CountVectorizer()\n",
    "X_bow = vectorizer.fit_transform(disease_symptoms_list)  # Train on the entire dataset\n",
    "\n",
    "# User input testing function\n",
    "def test_bow_model():\n",
    "    user_input = input(\"Enter symptoms: \")\n",
    "    input_vector = vectorizer.transform([user_input])\n",
    "    \n",
    "    similarities = cosine_similarity(input_vector, X_bow)[0]\n",
    "    sorted_indices = np.argsort(similarities)[::-1]  # Sort in descending order\n",
    "    \n",
    "    print(\"\\nDiseases with similar symptoms:\")\n",
    "    for idx in sorted_indices[:5]:  # Show top 5 similar diseases\n",
    "        if similarities[idx] > 0:\n",
    "            print(f\"{disease_names[idx]} (Similarity: {similarities[idx]:.4f})\")\n",
    "    \n",
    "    most_similar_index = sorted_indices[0]\n",
    "    predicted_disease = disease_names[most_similar_index]\n",
    "    \n",
    "    print(f\"\\nPredicted Disease (BoW): {predicted_disease}\")\n",
    "    print(f\"Explanation: The input symptoms were most similar to the symptoms of {predicted_disease} based on BoW vectorization, which counts word occurrences.\")\n",
    "    \n",
    "    # Fetch and print all symptoms associated with the predicted disease\n",
    "    all_symptoms = disease_symptoms_map[predicted_disease]\n",
    "    print(f\"\\nAll Symptoms of {predicted_disease}: {all_symptoms}\")\n",
    "\n",
    "# Test BoW model\n",
    "test_bow_model()"
   ]
  },
  {
   "cell_type": "markdown",
   "metadata": {},
   "source": [
    "# TF-IDF"
   ]
  },
  {
   "cell_type": "code",
   "execution_count": 44,
   "metadata": {
    "execution": {
     "iopub.execute_input": "2025-04-05T05:53:01.907201Z",
     "iopub.status.busy": "2025-04-05T05:53:01.906229Z",
     "iopub.status.idle": "2025-04-05T05:53:04.098527Z",
     "shell.execute_reply": "2025-04-05T05:53:04.097345Z",
     "shell.execute_reply.started": "2025-04-05T05:53:01.907154Z"
    }
   },
   "outputs": [
    {
     "name": "stdin",
     "output_type": "stream",
     "text": [
      "Enter symptoms:  Pounding sensation on one side, bright lights unbearable\n"
     ]
    },
    {
     "name": "stdout",
     "output_type": "stream",
     "text": [
      "\n",
      "Diseases with similar symptoms:\n",
      "Strep Throat (Similarity: 0.2611)\n",
      "Migraine (Similarity: 0.0896)\n",
      "Bronchitis (Similarity: 0.0837)\n",
      "\n",
      "Predicted Disease (TF-IDF): Strep Throat\n",
      "Explanation: The input symptoms were most similar to the symptoms of Strep Throat based on TF-IDF vectorization, which weighs important words more.\n",
      "\n",
      "All Symptoms of Strep Throat: ['sore throat', 'fever', 'swollen lymph nodes'] ['white patches on throat', 'difficulty swallowing'] ['red spots on roof of mouth', 'headache'] ['sandpaper-like rash', 'stomach pain (in children)'] ['swollen tonsils', 'petechiae on palate'] ['abdominal pain in children', 'sandpaper rash'] ['difficulty opening mouth', 'red swollen tonsils'] ['tiny red spots on tongue', 'strawberry tongue']\n"
     ]
    }
   ],
   "source": [
    "import pandas as pd\n",
    "from sklearn.feature_extraction.text import TfidfVectorizer\n",
    "from sklearn.metrics.pairwise import cosine_similarity\n",
    "import numpy as np\n",
    "\n",
    "# Extract required columns\n",
    "disease_symptoms_map = data.groupby('Disease')['Symptom'].apply(lambda x: ' '.join(x)).to_dict()\n",
    "disease_names = list(disease_symptoms_map.keys())\n",
    "disease_symptoms_list = list(disease_symptoms_map.values())\n",
    "\n",
    "# TF-IDF Vectorization\n",
    "vectorizer = TfidfVectorizer()\n",
    "X_tfidf = vectorizer.fit_transform(disease_symptoms_list)  # Train on the entire dataset\n",
    "\n",
    "# User input testing function\n",
    "def test_tfidf_model():\n",
    "    user_input = input(\"Enter symptoms: \")\n",
    "    input_vector = vectorizer.transform([user_input])\n",
    "    similarities = cosine_similarity(input_vector, X_tfidf)[0]\n",
    "\n",
    "    sorted_indices = np.argsort(similarities)[::-1]  # Sort in descending order\n",
    "\n",
    "    print(\"\\nDiseases with similar symptoms:\")\n",
    "    for idx in sorted_indices[:5]:  # Show top 5 similar diseases\n",
    "        if similarities[idx] > 0:\n",
    "            print(f\"{disease_names[idx]} (Similarity: {similarities[idx]:.4f})\")\n",
    "\n",
    "    most_similar_index = sorted_indices[0]\n",
    "    predicted_disease = disease_names[most_similar_index]\n",
    "\n",
    "    print(f\"\\nPredicted Disease (TF-IDF): {predicted_disease}\")\n",
    "    print(f\"Explanation: The input symptoms were most similar to the symptoms of {predicted_disease} based on TF-IDF vectorization, which weighs important words more.\")\n",
    "    \n",
    "    # Fetch and print all symptoms associated with the predicted disease\n",
    "    all_symptoms = disease_Asymptoms_map[predicted_disease]\n",
    "    print(f\"\\nAll Symptoms of {predicted_disease}: {all_symptoms}\")\n",
    "\n",
    "# Test TF-IDF model\n",
    "test_tfidf_model()"
   ]
  },
  {
   "cell_type": "markdown",
   "metadata": {},
   "source": [
    "# Word2Vec"
   ]
  },
  {
   "cell_type": "code",
   "execution_count": 55,
   "metadata": {
    "execution": {
     "iopub.execute_input": "2025-04-05T06:12:16.835205Z",
     "iopub.status.busy": "2025-04-05T06:12:16.834785Z",
     "iopub.status.idle": "2025-04-05T06:12:18.519058Z",
     "shell.execute_reply": "2025-04-05T06:12:18.518041Z",
     "shell.execute_reply.started": "2025-04-05T06:12:16.835108Z"
    }
   },
   "outputs": [
    {
     "name": "stdin",
     "output_type": "stream",
     "text": [
      "Enter symptoms (comma-separated):  Pounding sensation on one side, bright lights unbearable\n"
     ]
    },
    {
     "name": "stdout",
     "output_type": "stream",
     "text": [
      "\n",
      "Diseases with similar symptoms:\n",
      "\n",
      "Predicted Disease (Word2Vec): UTI\n",
      "Explanation: The input symptoms were most similar to the symptoms of UTI based on Word2Vec embeddings, which capture semantic relationships.\n",
      "\n",
      "All Symptoms of UTI: burning urination, frequent urination, pelvic pain, cloudy urine, strong urine odor, pelvic pressure, lower back pain, urge to urinate, blood in urine, pelvic discomfort, urinating small amounts, feeling of incomplete emptying, pressure in lower abdomen, fever (if kidney infection), flank pain, foul-smelling urine, pelvic heaviness, pain during intercourse, general unease\n"
     ]
    }
   ],
   "source": [
    "import pandas as pd\n",
    "import numpy as np\n",
    "import ast\n",
    "from gensim.models import Word2Vec\n",
    "from sklearn.metrics.pairwise import cosine_similarity\n",
    "\n",
    "# Convert string representation of lists into actual lists\n",
    "data['Symptom'] = data['Symptom'].apply(lambda x: ast.literal_eval(x) if isinstance(x, str) else x)\n",
    "\n",
    "# Train Word2Vec model\n",
    "symptom_sentences = data['Symptom'].tolist()\n",
    "word2vec_model = Word2Vec(sentences=symptom_sentences, vector_size=100, window=5, min_count=1, workers=4)\n",
    "\n",
    "# Function to get sentence embeddings\n",
    "def get_sentence_embedding(words):\n",
    "    vectors = [word2vec_model.wv[word] for word in words if word in word2vec_model.wv]\n",
    "    return np.mean(vectors, axis=0) if vectors else np.zeros(word2vec_model.vector_size)\n",
    "\n",
    "# Group symptoms by disease\n",
    "disease_symptoms_map = data.groupby('Disease')['Symptom'].apply(lambda x: sum(x.tolist(), [])).to_dict()\n",
    "disease_names = list(disease_symptoms_map.keys())\n",
    "disease_embeddings = [get_sentence_embedding(symptoms) for symptoms in disease_symptoms_map.values()]\n",
    "\n",
    "# User input testing function\n",
    "def test_word2vec_model():\n",
    "    user_input = input(\"Enter symptoms (comma-separated): \")\n",
    "    input_symptoms = [sym.strip() for sym in user_input.split(',')]\n",
    "\n",
    "    input_vector = get_sentence_embedding(input_symptoms)\n",
    "    similarities = cosine_similarity([input_vector], disease_embeddings)[0]\n",
    "    sorted_indices = np.argsort(similarities)[::-1]  # Sort in descending order\n",
    "\n",
    "    print(\"\\nDiseases with similar symptoms:\")\n",
    "    for idx in sorted_indices[:5]:  # Show top 5 similar diseases\n",
    "        if similarities[idx] > 0:\n",
    "            print(f\"{disease_names[idx]} (Similarity: {similarities[idx]:.4f})\")\n",
    "\n",
    "    most_similar_index = sorted_indices[0]\n",
    "    predicted_disease = disease_names[most_similar_index]\n",
    "\n",
    "    print(f\"\\nPredicted Disease (Word2Vec): {predicted_disease}\")\n",
    "    print(f\"Explanation: The input symptoms were most similar to the symptoms of {predicted_disease} based on Word2Vec embeddings, which capture semantic relationships.\")\n",
    "\n",
    "    # Fetch and print all symptoms associated with the predicted disease\n",
    "    all_symptoms = ', '.join(disease_symptoms_map[predicted_disease])\n",
    "    print(f\"\\nAll Symptoms of {predicted_disease}: {all_symptoms}\")\n",
    "\n",
    "# Test Word2Vec model\n",
    "test_word2vec_model()"
   ]
  },
  {
   "cell_type": "code",
   "execution_count": 60,
   "metadata": {
    "execution": {
     "iopub.execute_input": "2025-04-05T06:22:49.582275Z",
     "iopub.status.busy": "2025-04-05T06:22:49.581735Z",
     "iopub.status.idle": "2025-04-05T06:22:51.571518Z",
     "shell.execute_reply": "2025-04-05T06:22:51.570353Z",
     "shell.execute_reply.started": "2025-04-05T06:22:49.582208Z"
    }
   },
   "outputs": [
    {
     "name": "stdin",
     "output_type": "stream",
     "text": [
      "Enter symptoms (separated by spaces):  Pounding sensation on one side, bright lights unbearable\n"
     ]
    },
    {
     "name": "stdout",
     "output_type": "stream",
     "text": [
      "\n",
      "Diseases with similar symptoms:\n",
      "Strep Throat (Similarity: 0.5470)\n",
      "Sinusitis (Similarity: 0.0869)\n",
      "Influenza (Similarity: 0.0262)\n",
      "Pneumonia (Similarity: 0.0131)\n",
      "\n",
      "Predicted Disease (Word2Vec): Strep Throat\n",
      "Explanation: The input symptoms were most similar to the symptoms of Strep Throat based on Word2Vec vectorization, which captures semantic relationships between words.\n",
      "\n",
      "All Symptoms of Strep Throat: ['sore throat', 'fever', 'swollen lymph nodes'] ['white patches on throat', 'difficulty swallowing'] ['red spots on roof of mouth', 'headache'] ['sandpaper-like rash', 'stomach pain (in children)'] ['swollen tonsils', 'petechiae on palate'] ['abdominal pain in children', 'sandpaper rash'] ['difficulty opening mouth', 'red swollen tonsils'] ['tiny red spots on tongue', 'strawberry tongue']\n"
     ]
    }
   ],
   "source": [
    "import pandas as pd\n",
    "from gensim.models import Word2Vec\n",
    "from sklearn.metrics.pairwise import cosine_similarity\n",
    "import numpy as np\n",
    "\n",
    "# Extract required columns\n",
    "disease_symptoms_map = data.groupby('Disease')['Symptom'].apply(lambda x: ' '.join(x)).to_dict()\n",
    "disease_names = list(disease_symptoms_map.keys())\n",
    "disease_symptoms_list = list(disease_symptoms_map.values())\n",
    "\n",
    "# Tokenize the symptoms for Word2Vec\n",
    "tokenized_symptoms = [symptoms.split() for symptoms in disease_symptoms_list]\n",
    "\n",
    "# Train a Word2Vec model on the tokenized symptoms\n",
    "word2vec_model = Word2Vec(sentences=tokenized_symptoms, vector_size=100, window=5, min_count=1, workers=4)\n",
    "\n",
    "# Function to compute the average vector for a sentence/document\n",
    "def get_sentence_vector(sentence, model):\n",
    "    tokens = sentence.split()\n",
    "    vectors = [model.wv[token] for token in tokens if token in model.wv]\n",
    "    if not vectors:\n",
    "        return np.zeros(model.vector_size)\n",
    "    return np.mean(vectors, axis=0)\n",
    "\n",
    "# Generate document vectors for all diseases using Word2Vec\n",
    "X_word2vec = np.array([get_sentence_vector(symptoms, word2vec_model) for symptoms in disease_symptoms_list])\n",
    "\n",
    "# User input testing function\n",
    "def test_word2vec_model():\n",
    "    user_input = input(\"Enter symptoms (separated by spaces): \")\n",
    "    input_vector = get_sentence_vector(user_input, word2vec_model).reshape(1, -1)\n",
    "    \n",
    "    # Compute cosine similarities between the input and all disease vectors\n",
    "    similarities = cosine_similarity(input_vector, X_word2vec)[0]\n",
    "\n",
    "    sorted_indices = np.argsort(similarities)[::-1]  # Sort in descending order\n",
    "\n",
    "    print(\"\\nDiseases with similar symptoms:\")\n",
    "    for idx in sorted_indices[:5]:  # Show top 5 similar diseases\n",
    "        if similarities[idx] > 0:\n",
    "            print(f\"{disease_names[idx]} (Similarity: {similarities[idx]:.4f})\")\n",
    "\n",
    "    most_similar_index = sorted_indices[0]\n",
    "    predicted_disease = disease_names[most_similar_index]\n",
    "\n",
    "    print(f\"\\nPredicted Disease (Word2Vec): {predicted_disease}\")\n",
    "    print(f\"Explanation: The input symptoms were most similar to the symptoms of {predicted_disease} based on Word2Vec vectorization, which captures semantic relationships between words.\")\n",
    "    \n",
    "    # Fetch and print all symptoms associated with the predicted disease\n",
    "    all_symptoms = disease_symptoms_map[predicted_disease]\n",
    "    print(f\"\\nAll Symptoms of {predicted_disease}: {all_symptoms}\")\n",
    "\n",
    "# Test Word2Vec model\n",
    "test_word2vec_model()"
   ]
  },
  {
   "cell_type": "markdown",
   "metadata": {},
   "source": [
    "# FastText"
   ]
  },
  {
   "cell_type": "code",
   "execution_count": 47,
   "metadata": {
    "execution": {
     "iopub.execute_input": "2025-04-05T05:54:22.090045Z",
     "iopub.status.busy": "2025-04-05T05:54:22.089642Z",
     "iopub.status.idle": "2025-04-05T05:54:25.790736Z",
     "shell.execute_reply": "2025-04-05T05:54:25.789592Z",
     "shell.execute_reply.started": "2025-04-05T05:54:22.090010Z"
    }
   },
   "outputs": [
    {
     "name": "stdin",
     "output_type": "stream",
     "text": [
      "Enter symptoms (comma-separated):  Pounding sensation on one side, bright lights unbearable\n"
     ]
    },
    {
     "name": "stdout",
     "output_type": "stream",
     "text": [
      "\n",
      "Diseases with similar symptoms:\n",
      "Common Cold (Similarity: 0.1057)\n",
      "Migraine (Similarity: 0.1056)\n",
      "Bronchitis (Similarity: 0.0754)\n",
      "Strep Throat (Similarity: 0.0538)\n",
      "Influenza (Similarity: 0.0517)\n",
      "\n",
      "Predicted Disease (FastText): Common Cold\n",
      "Explanation: The input symptoms were most similar to the symptoms of Common Cold based on FastText embeddings, which capture subword relationships.\n",
      "\n",
      "All Symptoms of Common Cold: runny nose, sore throat, cough, sneezing, congestion, mild fever, sore throat, hoarse voice, mild cough, low energy, slight body aches, watery eyes, tickle in throat, post-nasal drip, mild fatigue, occasional cough, tickle in chest, mild ear pressure, mild swollen glands, scratchy throat, mild hoarseness, occasional sneezing\n"
     ]
    }
   ],
   "source": [
    "import pandas as pd\n",
    "import numpy as np\n",
    "import ast\n",
    "from gensim.models import FastText\n",
    "from sklearn.metrics.pairwise import cosine_similarity\n",
    "\n",
    "# Convert string representation of lists into actual lists\n",
    "data['Symptom'] = data['Symptom'].apply(lambda x: ast.literal_eval(x) if isinstance(x, str) else x)\n",
    "\n",
    "# Train FastText model\n",
    "symptom_sentences = data['Symptom'].tolist()\n",
    "fasttext_model = FastText(sentences=symptom_sentences, vector_size=100, window=5, min_count=1, workers=4)\n",
    "\n",
    "# Function to compute sentence embedding using FastText\n",
    "def get_sentence_embedding(words):\n",
    "    vectors = [fasttext_model.wv[word] for word in words if word in fasttext_model.wv]\n",
    "    return np.mean(vectors, axis=0) if vectors else np.zeros(fasttext_model.vector_size)\n",
    "\n",
    "# Group symptoms by disease\n",
    "disease_symptoms_map = data.groupby('Disease')['Symptom'].apply(lambda x: sum(x.tolist(), [])).to_dict()\n",
    "disease_names = list(disease_symptoms_map.keys())\n",
    "disease_embeddings = np.array([get_sentence_embedding(symptoms) for symptoms in disease_symptoms_map.values()])\n",
    "\n",
    "# User input testing function\n",
    "def test_fasttext_model():\n",
    "    user_input = input(\"Enter symptoms (comma-separated): \")\n",
    "    input_symptoms = [sym.strip() for sym in user_input.split(',')]\n",
    "\n",
    "    input_vector = get_sentence_embedding(input_symptoms)\n",
    "    similarities = cosine_similarity([input_vector], disease_embeddings)[0]\n",
    "    sorted_indices = np.argsort(similarities)[::-1]  # Sort in descending order\n",
    "\n",
    "    print(\"\\nDiseases with similar symptoms:\")\n",
    "    for idx in sorted_indices[:5]:  # Show top 5 similar diseases\n",
    "        if similarities[idx] > 0:\n",
    "            print(f\"{disease_names[idx]} (Similarity: {similarities[idx]:.4f})\")\n",
    "\n",
    "    most_similar_index = sorted_indices[0]\n",
    "    predicted_disease = disease_names[most_similar_index]\n",
    "\n",
    "    print(f\"\\nPredicted Disease (FastText): {predicted_disease}\")\n",
    "    print(f\"Explanation: The input symptoms were most similar to the symptoms of {predicted_disease} based on FastText embeddings, which capture subword relationships.\")\n",
    "\n",
    "    # Fetch and print all symptoms associated with the predicted disease\n",
    "    all_symptoms = ', '.join(disease_symptoms_map[predicted_disease])\n",
    "    print(f\"\\nAll Symptoms of {predicted_disease}: {all_symptoms}\")\n",
    "\n",
    "# Test FastText model\n",
    "test_fasttext_model()"
   ]
  },
  {
   "cell_type": "markdown",
   "metadata": {},
   "source": [
    "# BERT"
   ]
  },
  {
   "cell_type": "code",
   "execution_count": 15,
   "metadata": {
    "execution": {
     "iopub.execute_input": "2025-04-05T04:42:05.332087Z",
     "iopub.status.busy": "2025-04-05T04:42:05.331755Z",
     "iopub.status.idle": "2025-04-05T04:42:53.080977Z",
     "shell.execute_reply": "2025-04-05T04:42:53.079813Z",
     "shell.execute_reply.started": "2025-04-05T04:42:05.332061Z"
    }
   },
   "outputs": [
    {
     "name": "stdout",
     "output_type": "stream",
     "text": [
      "Using device: cpu\n"
     ]
    },
    {
     "data": {
      "application/vnd.jupyter.widget-view+json": {
       "model_id": "0ae590b01dd94b8d945aa5d51ea2a3ba",
       "version_major": 2,
       "version_minor": 0
      },
      "text/plain": [
       "tokenizer_config.json:   0%|          | 0.00/48.0 [00:00<?, ?B/s]"
      ]
     },
     "metadata": {},
     "output_type": "display_data"
    },
    {
     "data": {
      "application/vnd.jupyter.widget-view+json": {
       "model_id": "b758731413d04eaaac0cac1aaf100b09",
       "version_major": 2,
       "version_minor": 0
      },
      "text/plain": [
       "vocab.txt:   0%|          | 0.00/232k [00:00<?, ?B/s]"
      ]
     },
     "metadata": {},
     "output_type": "display_data"
    },
    {
     "data": {
      "application/vnd.jupyter.widget-view+json": {
       "model_id": "cdb0134785344a5b9c66e7feb84947de",
       "version_major": 2,
       "version_minor": 0
      },
      "text/plain": [
       "tokenizer.json:   0%|          | 0.00/466k [00:00<?, ?B/s]"
      ]
     },
     "metadata": {},
     "output_type": "display_data"
    },
    {
     "data": {
      "application/vnd.jupyter.widget-view+json": {
       "model_id": "bfec72321a7c4c7ea6a7ccff38673552",
       "version_major": 2,
       "version_minor": 0
      },
      "text/plain": [
       "config.json:   0%|          | 0.00/570 [00:00<?, ?B/s]"
      ]
     },
     "metadata": {},
     "output_type": "display_data"
    },
    {
     "data": {
      "application/vnd.jupyter.widget-view+json": {
       "model_id": "c59cdcade9494376a0ffafbbbb17ded9",
       "version_major": 2,
       "version_minor": 0
      },
      "text/plain": [
       "model.safetensors:   0%|          | 0.00/440M [00:00<?, ?B/s]"
      ]
     },
     "metadata": {},
     "output_type": "display_data"
    },
    {
     "name": "stderr",
     "output_type": "stream",
     "text": [
      "Some weights of BertForSequenceClassification were not initialized from the model checkpoint at bert-base-uncased and are newly initialized: ['classifier.bias', 'classifier.weight']\n",
      "You should probably TRAIN this model on a down-stream task to be able to use it for predictions and inference.\n"
     ]
    },
    {
     "name": "stdout",
     "output_type": "stream",
     "text": [
      "Running zero-shot predictions...\n"
     ]
    },
    {
     "name": "stderr",
     "output_type": "stream",
     "text": [
      "100%|██████████| 80/80 [00:17<00:00,  4.59it/s]"
     ]
    },
    {
     "name": "stdout",
     "output_type": "stream",
     "text": [
      "\n",
      "Zero-Shot BERT Results:\n",
      "Accuracy: 12.50%\n"
     ]
    },
    {
     "name": "stderr",
     "output_type": "stream",
     "text": [
      "\n"
     ]
    }
   ],
   "source": [
    "import pandas as pd\n",
    "import torch\n",
    "from transformers import BertTokenizer, BertForSequenceClassification\n",
    "from sklearn.metrics import accuracy_score, classification_report\n",
    "from tqdm import tqdm\n",
    "\n",
    "# 1. System Setup\n",
    "device = torch.device('cuda' if torch.cuda.is_available() else 'cpu')\n",
    "print(f\"Using device: {device}\")\n",
    "\n",
    "# 2. Load Data\n",
    "def load_data():\n",
    "    df = pd.read_csv('medical_symptoms_100.csv')\n",
    "    df['Symptoms'] = df['Symptom'].apply(lambda x: eval(x) if isinstance(x, str) else [])\n",
    "    df = df[df['Symptoms'].apply(len) > 0].reset_index(drop=True)\n",
    "    df['text'] = df['Symptoms'].apply(lambda x: ', '.join(x))\n",
    "    return df\n",
    "\n",
    "df = load_data()\n",
    "diseases = df['Disease'].unique().tolist()\n",
    "\n",
    "# 3. Initialize BERT for Zero-Shot Classification\n",
    "tokenizer = BertTokenizer.from_pretrained('bert-base-uncased')    #base-size BERT (12 layers)\n",
    "model = BertForSequenceClassification.from_pretrained('bert-base-uncased')\n",
    "model.to(device)\n",
    "model.eval()    #Turns off dropout layers and other training-specific behaviors.\n",
    "\n",
    "# 4. Zero-Shot Prediction Function\n",
    "def predict_zero_shot(text, candidate_labels):\n",
    "    # Tokenize all candidate labels\n",
    "    label_inputs = tokenizer(candidate_labels, padding=True, truncation=True, return_tensors='pt')\n",
    "    label_inputs = {k: v.to(device) for k, v in label_inputs.items()}\n",
    "    \n",
    "    # Tokenize input text\n",
    "    text_inputs = tokenizer(text, return_tensors='pt', truncation=True, max_length=64).to(device)\n",
    "    \n",
    "    with torch.no_grad():\n",
    "        # Get embeddings for text\n",
    "        text_outputs = model.bert(**text_inputs)    # Shape: [batch_size, sequence_length, hidden_size]\n",
    "        text_embedding = text_outputs.last_hidden_state.mean(dim=1)  # Mean pooling\n",
    "        \n",
    "        # Get embeddings for labels\n",
    "        label_outputs = model.bert(**label_inputs)    \n",
    "        label_embeddings = label_outputs.last_hidden_state.mean(dim=1)\n",
    "        \n",
    "        # Calculate cosine similarity\n",
    "        similarities = torch.nn.functional.cosine_similarity(\n",
    "            text_embedding.unsqueeze(1),\n",
    "            label_embeddings.unsqueeze(0),\n",
    "            dim=2\n",
    "        )\n",
    "        \n",
    "        # Get most similar label\n",
    "        pred_idx = torch.argmax(similarities).item()\n",
    "        confidence = torch.softmax(similarities, dim=1)[0][pred_idx].item()\n",
    "    \n",
    "    return candidate_labels[pred_idx], confidence\n",
    "\n",
    "# 5. Evaluation\n",
    "true_labels = []\n",
    "pred_labels = []\n",
    "confidences = []\n",
    "\n",
    "print(\"Running zero-shot predictions...\")\n",
    "for text, label in tqdm(zip(df['text'], df['Disease']), total=len(df)):\n",
    "    pred, confidence = predict_zero_shot(text, diseases)\n",
    "    true_labels.append(label)\n",
    "    pred_labels.append(pred)\n",
    "    confidences.append(confidence)\n",
    "\n",
    "# 6. Performance Metrics\n",
    "print(\"\\nZero-Shot BERT Results:\")\n",
    "print(f\"Accuracy: {accuracy_score(true_labels, pred_labels):.2%}\")"
   ]
  },
  {
   "cell_type": "code",
   "execution_count": 51,
   "metadata": {
    "execution": {
     "iopub.execute_input": "2025-04-05T05:58:51.288352Z",
     "iopub.status.busy": "2025-04-05T05:58:51.287883Z",
     "iopub.status.idle": "2025-04-05T05:58:52.368325Z",
     "shell.execute_reply": "2025-04-05T05:58:52.367131Z",
     "shell.execute_reply.started": "2025-04-05T05:58:51.288320Z"
    }
   },
   "outputs": [
    {
     "name": "stdout",
     "output_type": "stream",
     "text": [
      "\n",
      "Sample Predictions:\n",
      "\n",
      "Symptoms: headache, fever\n",
      "Predicted: Migraine (11.28% confidence)\n",
      "\n",
      "Symptoms: cough, shortness, breath\n",
      "Predicted: Strep Throat (11.14% confidence)\n",
      "\n",
      "Symptoms: sore throat, fever\n",
      "Predicted: Sinusitis (11.14% confidence)\n",
      "\n",
      "Symptoms: pounding head pain, nausea, vomiting\n",
      "Predicted: Sinusitis (11.27% confidence)\n",
      "\n",
      "Symptoms: Pounding sensation on one side, bright lights unbearable\n",
      "Predicted: Migraine (10.92% confidence)\n"
     ]
    }
   ],
   "source": [
    "# 7. Sample Predictions\n",
    "print(\"\\nSample Predictions:\")\n",
    "test_cases = [\n",
    "    ['headache', 'fever'],\n",
    "    ['cough', 'shortness', 'breath'],\n",
    "    ['sore throat', 'fever'],\n",
    "    ['pounding head pain', 'nausea', 'vomiting'],\n",
    "    ['Pounding sensation on one side', 'bright lights unbearable']\n",
    "]\n",
    "\n",
    "for symptoms in test_cases:\n",
    "    text = ', '.join(symptoms)\n",
    "    pred, confidence = predict_zero_shot(text, diseases)\n",
    "    print(f\"\\nSymptoms: {text}\")\n",
    "    print(f\"Predicted: {pred} ({confidence:.2%} confidence)\")"
   ]
  },
  {
   "cell_type": "markdown",
   "metadata": {},
   "source": [
    "# Fine-tuned BERT"
   ]
  },
  {
   "cell_type": "code",
   "execution_count": 17,
   "metadata": {
    "execution": {
     "iopub.execute_input": "2025-04-05T04:44:40.156115Z",
     "iopub.status.busy": "2025-04-05T04:44:40.155754Z",
     "iopub.status.idle": "2025-04-05T04:52:19.612900Z",
     "shell.execute_reply": "2025-04-05T04:52:19.610382Z",
     "shell.execute_reply.started": "2025-04-05T04:44:40.156089Z"
    }
   },
   "outputs": [
    {
     "name": "stdout",
     "output_type": "stream",
     "text": [
      "Available RAM: 28.7 GB\n",
      "Using device: cpu\n",
      "Tokenizing training data...\n",
      "Tokenizing test data...\n",
      "\n",
      "Epoch 1\n"
     ]
    },
    {
     "name": "stderr",
     "output_type": "stream",
     "text": [
      "                                                                               \r"
     ]
    },
    {
     "name": "stdout",
     "output_type": "stream",
     "text": [
      "Train Loss: 2.3466 | Train Acc: 17.19%\n",
      "Val Loss: 2.3027 | Val Acc: 12.50%\n",
      "Saved new best model\n",
      "\n",
      "Epoch 2\n"
     ]
    },
    {
     "name": "stderr",
     "output_type": "stream",
     "text": [
      "                                                                                \r"
     ]
    },
    {
     "name": "stdout",
     "output_type": "stream",
     "text": [
      "Train Loss: 2.3182 | Train Acc: 9.38%\n",
      "Val Loss: 2.3112 | Val Acc: 6.25%\n",
      "\n",
      "Epoch 3\n"
     ]
    },
    {
     "name": "stderr",
     "output_type": "stream",
     "text": [
      "                                                                               \r"
     ]
    },
    {
     "name": "stdout",
     "output_type": "stream",
     "text": [
      "Train Loss: 2.3197 | Train Acc: 17.19%\n",
      "Val Loss: 2.2720 | Val Acc: 6.25%\n",
      "\n",
      "Epoch 4\n"
     ]
    },
    {
     "name": "stderr",
     "output_type": "stream",
     "text": [
      "                                                                               \r"
     ]
    },
    {
     "name": "stdout",
     "output_type": "stream",
     "text": [
      "Train Loss: 2.2602 | Train Acc: 17.19%\n",
      "Val Loss: 2.2506 | Val Acc: 12.50%\n",
      "\n",
      "Epoch 5\n"
     ]
    },
    {
     "name": "stderr",
     "output_type": "stream",
     "text": [
      "                                                                                \r"
     ]
    },
    {
     "name": "stdout",
     "output_type": "stream",
     "text": [
      "Train Loss: 1.8491 | Train Acc: 39.06%\n",
      "Val Loss: 2.1335 | Val Acc: 18.75%\n",
      "Saved new best model\n",
      "\n",
      "Epoch 6\n"
     ]
    },
    {
     "name": "stderr",
     "output_type": "stream",
     "text": [
      "                                                                                \r"
     ]
    },
    {
     "name": "stdout",
     "output_type": "stream",
     "text": [
      "Train Loss: 1.4552 | Train Acc: 71.88%\n",
      "Val Loss: 2.1323 | Val Acc: 37.50%\n",
      "Saved new best model\n",
      "\n",
      "Epoch 7\n"
     ]
    },
    {
     "name": "stderr",
     "output_type": "stream",
     "text": [
      "                                                                                "
     ]
    },
    {
     "name": "stdout",
     "output_type": "stream",
     "text": [
      "Train Loss: 1.0612 | Train Acc: 90.62%\n",
      "Val Loss: 1.9604 | Val Acc: 37.50%\n"
     ]
    },
    {
     "name": "stderr",
     "output_type": "stream",
     "text": [
      "\r"
     ]
    }
   ],
   "source": [
    "import pandas as pd\n",
    "import numpy as np\n",
    "from sklearn.preprocessing import LabelEncoder\n",
    "from sklearn.model_selection import train_test_split\n",
    "from transformers import BertTokenizer, BertModel\n",
    "import torch\n",
    "import torch.nn as nn\n",
    "from torch.utils.data import Dataset, DataLoader\n",
    "from torch.optim import AdamW\n",
    "from tqdm import tqdm\n",
    "import psutil\n",
    "import gc\n",
    "\n",
    "# 1. System Check\n",
    "print(f\"Available RAM: {psutil.virtual_memory().available / (1024**3):.1f} GB\")\n",
    "device = torch.device('cuda' if torch.cuda.is_available() else 'cpu')\n",
    "print(f\"Using device: {device}\")\n",
    "\n",
    "# 2. Robust Data Loading\n",
    "def load_data():\n",
    "    try:\n",
    "        df = pd.read_csv('medical_symptoms_100.csv')\n",
    "        # Ensure we have required columns\n",
    "        if not all(col in df.columns for col in ['Disease', 'Symptom']):\n",
    "            raise ValueError(\"Missing required columns\")\n",
    "        \n",
    "        # Convert symptoms safely\n",
    "        def safe_convert(x):\n",
    "            try:\n",
    "                return eval(x) if isinstance(x, str) else []\n",
    "            except:\n",
    "                return []\n",
    "        \n",
    "        df['Symptoms'] = df['Symptom'].apply(safe_convert)\n",
    "        df = df[df['Symptoms'].apply(len) > 0].reset_index(drop=True)\n",
    "        df['text'] = df['Symptoms'].apply(lambda x: ' '.join(x))\n",
    "        return df\n",
    "    except Exception as e:\n",
    "        print(f\"Data loading failed: {str(e)}\")\n",
    "        exit()\n",
    "\n",
    "df = load_data()\n",
    "\n",
    "# 3. Label Encoding\n",
    "label_encoder = LabelEncoder()\n",
    "df['label'] = label_encoder.fit_transform(df['Disease'])\n",
    "\n",
    "# 4. Train-Test Split\n",
    "train_texts, test_texts, train_labels, test_labels = train_test_split(\n",
    "    df['text'], df['label'], test_size=0.2, random_state=42, stratify=df['label'])\n",
    "\n",
    "# 5. Tokenization with Proper Alignment\n",
    "tokenizer = BertTokenizer.from_pretrained('bert-base-uncased')\n",
    "\n",
    "def tokenize_with_labels(texts, labels, batch_size=4, max_length=64):\n",
    "    input_ids = []\n",
    "    attention_masks = []    #Tell BERT which tokens are real (1) and which are padding (0).\n",
    "    final_labels = []\n",
    "    \n",
    "    for i in range(0, len(texts), batch_size):\n",
    "        batch_texts = texts[i:i+batch_size]\n",
    "        batch_labels = labels[i:i+batch_size]\n",
    "        \n",
    "        encodings = tokenizer(\n",
    "            batch_texts.tolist(),\n",
    "            truncation=True,\n",
    "            padding='max_length',\n",
    "            max_length=max_length,\n",
    "            return_tensors='pt'\n",
    "        )\n",
    "        \n",
    "        input_ids.append(encodings['input_ids'])\n",
    "        attention_masks.append(encodings['attention_mask'])\n",
    "        final_labels.extend(batch_labels)\n",
    "        \n",
    "        torch.cuda.empty_cache() if torch.cuda.is_available() else gc.collect()\n",
    "    \n",
    "    return {\n",
    "        'input_ids': torch.cat(input_ids),\n",
    "        'attention_mask': torch.cat(attention_masks),\n",
    "        'labels': torch.tensor(final_labels)\n",
    "    }\n",
    "\n",
    "print(\"Tokenizing training data...\")\n",
    "train_encodings = tokenize_with_labels(train_texts, train_labels)\n",
    "print(\"Tokenizing test data...\")\n",
    "test_encodings = tokenize_with_labels(test_texts, test_labels)\n",
    "\n",
    "# 6. Fixed Dataset Class\n",
    "class SymptomsDataset(Dataset):\n",
    "    def __init__(self, encodings):\n",
    "        self.input_ids = encodings['input_ids']\n",
    "        self.attention_mask = encodings['attention_mask']\n",
    "        self.labels = encodings['labels']\n",
    "        \n",
    "        # Validate lengths\n",
    "        assert len(self.input_ids) == len(self.attention_mask) == len(self.labels), \"Length mismatch in dataset\"\n",
    "    \n",
    "    def __getitem__(self, idx):\n",
    "        return {\n",
    "            'input_ids': self.input_ids[idx],\n",
    "            'attention_mask': self.attention_mask[idx],\n",
    "            'labels': self.labels[idx]\n",
    "        }\n",
    "    \n",
    "    def __len__(self):\n",
    "        return len(self.labels)\n",
    "\n",
    "train_dataset = SymptomsDataset(train_encodings)\n",
    "test_dataset = SymptomsDataset(test_encodings)\n",
    "\n",
    "# 7. Updated Model Definition\n",
    "class BertClassifier(nn.Module):\n",
    "    def __init__(self, num_classes):\n",
    "        super().__init__()\n",
    "        self.bert = BertModel.from_pretrained('bert-base-uncased')\n",
    "        self.dropout = nn.Dropout(0.2)\n",
    "        self.classifier = nn.Linear(768, num_classes)\n",
    "        \n",
    "    def forward(self, input_ids, attention_mask, token_type_ids=None):\n",
    "        outputs = self.bert(\n",
    "            input_ids=input_ids,\n",
    "            attention_mask=attention_mask,\n",
    "            token_type_ids=token_type_ids,\n",
    "            return_dict=False\n",
    "        )\n",
    "        pooled_output = outputs[1]  # Using pooled output\n",
    "        pooled_output = self.dropout(pooled_output)\n",
    "        logits = self.classifier(pooled_output)\n",
    "        return logits\n",
    "\n",
    "# Initialize model\n",
    "model = BertClassifier(num_classes=len(label_encoder.classes_)).to(device)\n",
    "\n",
    "# 8. Training Setup\n",
    "train_loader = DataLoader(train_dataset, batch_size=2, shuffle=True)\n",
    "test_loader = DataLoader(test_dataset, batch_size=2)\n",
    "\n",
    "optimizer = AdamW(model.parameters(), lr=3e-5)\n",
    "loss_fn = nn.CrossEntropyLoss()\n",
    "\n",
    "# 9. Training Loop\n",
    "def train_epoch(model, dataloader, loss_fn, optimizer):\n",
    "    model.train()\n",
    "    total_loss = 0\n",
    "    correct = 0\n",
    "    total = 0\n",
    "    \n",
    "    progress_bar = tqdm(dataloader, desc=\"Training\", leave=False)\n",
    "    for batch in progress_bar:\n",
    "        inputs = {\n",
    "            'input_ids': batch['input_ids'].to(device),\n",
    "            'attention_mask': batch['attention_mask'].to(device)\n",
    "        }\n",
    "        labels = batch['labels'].to(device)\n",
    "        \n",
    "        optimizer.zero_grad()\n",
    "        outputs = model(**inputs)\n",
    "        loss = loss_fn(outputs, labels)\n",
    "        loss.backward()\n",
    "        optimizer.step()\n",
    "        \n",
    "        total_loss += loss.item()\n",
    "        _, predicted = torch.max(outputs.data, 1)\n",
    "        total += labels.size(0)\n",
    "        correct += (predicted == labels).sum().item()\n",
    "        \n",
    "        progress_bar.set_postfix({\n",
    "            'loss': total_loss/total,\n",
    "            'acc': correct/total\n",
    "        })\n",
    "        \n",
    "        torch.cuda.empty_cache() if torch.cuda.is_available() else gc.collect()\n",
    "    \n",
    "    return total_loss/len(dataloader), correct/total\n",
    "\n",
    "def evaluate(model, dataloader, loss_fn):\n",
    "    model.eval()\n",
    "    total_loss = 0\n",
    "    correct = 0\n",
    "    total = 0\n",
    "    \n",
    "    with torch.no_grad():\n",
    "        for batch in tqdm(dataloader, desc=\"Evaluating\", leave=False):\n",
    "            inputs = {\n",
    "                'input_ids': batch['input_ids'].to(device),\n",
    "                'attention_mask': batch['attention_mask'].to(device)\n",
    "            }\n",
    "            labels = batch['labels'].to(device)\n",
    "            \n",
    "            outputs = model(**inputs)\n",
    "            loss = loss_fn(outputs, labels)\n",
    "            \n",
    "            total_loss += loss.item()\n",
    "            _, predicted = torch.max(outputs.data, 1)\n",
    "            total += labels.size(0)\n",
    "            correct += (predicted == labels).sum().item()\n",
    "            \n",
    "            torch.cuda.empty_cache() if torch.cuda.is_available() else gc.collect()\n",
    "    \n",
    "    return total_loss/len(dataloader), correct/total\n",
    "\n",
    "# 10. Main Training\n",
    "best_accuracy = 0\n",
    "for epoch in range(7):\n",
    "    print(f\"\\nEpoch {epoch+1}\")\n",
    "    train_loss, train_acc = train_epoch(model, train_loader, loss_fn, optimizer)\n",
    "    val_loss, val_acc = evaluate(model, test_loader, loss_fn)\n",
    "    \n",
    "    print(f\"Train Loss: {train_loss:.4f} | Train Acc: {train_acc:.2%}\")\n",
    "    print(f\"Val Loss: {val_loss:.4f} | Val Acc: {val_acc:.2%}\")\n",
    "    \n",
    "    if val_acc > best_accuracy:\n",
    "        best_accuracy = val_acc\n",
    "        torch.save(model.state_dict(), 'best_model.pt')\n",
    "        print(\"Saved new best model\")\n",
    "\n",
    "# 11. Prediction Function\n",
    "def predict(symptoms):\n",
    "    text = ' '.join(symptoms)\n",
    "    inputs = tokenizer(\n",
    "        text,\n",
    "        truncation=True,\n",
    "        padding='max_length',\n",
    "        max_length=64,\n",
    "        return_tensors='pt'\n",
    "    ).to(device)\n",
    "    \n",
    "    with torch.no_grad():\n",
    "        outputs = model(**inputs)\n",
    "        probs = torch.softmax(outputs, dim=1)[0]\n",
    "        top3 = torch.topk(probs, 3)\n",
    "    \n",
    "    return [\n",
    "        (label_encoder.inverse_transform([idx.item()])[0], f\"{prob.item():.2%}\")\n",
    "        for idx, prob in zip(top3.indices, top3.values)\n",
    "    ]"
   ]
  },
  {
   "cell_type": "markdown",
   "metadata": {},
   "source": [
    "Model:\n",
    "[Tokenized Text]->[Pretrained BERT Encoder]->[Pooled [CLS] Token Output]->[Dropout]->[Linear Classification Layer]->[Logits for Each Class]"
   ]
  },
  {
   "cell_type": "code",
   "execution_count": 53,
   "metadata": {
    "execution": {
     "iopub.execute_input": "2025-04-05T06:08:04.701915Z",
     "iopub.status.busy": "2025-04-05T06:08:04.701407Z",
     "iopub.status.idle": "2025-04-05T06:08:05.449725Z",
     "shell.execute_reply": "2025-04-05T06:08:05.448621Z",
     "shell.execute_reply.started": "2025-04-05T06:08:04.701864Z"
    }
   },
   "outputs": [
    {
     "name": "stdout",
     "output_type": "stream",
     "text": [
      "\n",
      "Sample Predictions:\n",
      "\n",
      "Symptoms: headache, fever\n",
      "1. Migraine (43.85% confidence)\n",
      "2. Influenza (16.06% confidence)\n",
      "3. Bronchitis (11.12% confidence)\n",
      "\n",
      "Symptoms: cough, shortness, breath\n",
      "1. Bronchitis (29.55% confidence)\n",
      "2. Common Cold (23.47% confidence)\n",
      "3. Migraine (10.07% confidence)\n",
      "\n",
      "Symptoms: sore throat, fever\n",
      "1. Allergies (24.94% confidence)\n",
      "2. Common Cold (20.27% confidence)\n",
      "3. Bronchitis (20.10% confidence)\n",
      "\n",
      "Symptoms: pounding head pain, nausea, vomiting\n",
      "1. Migraine (35.78% confidence)\n",
      "2. Bronchitis (12.10% confidence)\n",
      "3. Common Cold (11.97% confidence)\n",
      "\n",
      "Symptoms: Pounding sensation on one side, bright lights unbearable\n",
      "1. Migraine (37.23% confidence)\n",
      "2. Bronchitis (11.26% confidence)\n",
      "3. Pneumonia (10.39% confidence)\n"
     ]
    }
   ],
   "source": [
    "# Test predictions\n",
    "print(\"\\nSample Predictions:\")\n",
    "test_cases = [\n",
    "    ['headache', 'fever'],\n",
    "    ['cough', 'shortness', 'breath'],\n",
    "    ['sore throat', 'fever'],\n",
    "    ['pounding head pain', 'nausea', 'vomiting'],\n",
    "    ['Pounding sensation on one side', 'bright lights unbearable']\n",
    "]\n",
    "\n",
    "for symptoms in test_cases:\n",
    "    predictions = predict(symptoms)\n",
    "    print(f\"\\nSymptoms: {', '.join(symptoms)}\")\n",
    "    for i, (disease, confidence) in enumerate(predictions, 1):\n",
    "        print(f\"{i}. {disease} ({confidence} confidence)\")"
   ]
  },
  {
   "cell_type": "code",
   "execution_count": 22,
   "metadata": {
    "execution": {
     "iopub.execute_input": "2025-04-05T04:57:54.589165Z",
     "iopub.status.busy": "2025-04-05T04:57:54.588785Z",
     "iopub.status.idle": "2025-04-05T04:57:54.965428Z",
     "shell.execute_reply": "2025-04-05T04:57:54.964334Z",
     "shell.execute_reply.started": "2025-04-05T04:57:54.589138Z"
    }
   },
   "outputs": [
    {
     "name": "stdout",
     "output_type": "stream",
     "text": [
      "\n",
      "==================================================\n",
      "Model Architecture Overview:\n",
      "BertClassifier(\n",
      "  (bert): BertModel(\n",
      "    (embeddings): BertEmbeddings(\n",
      "      (word_embeddings): Embedding(30522, 768, padding_idx=0)\n",
      "      (position_embeddings): Embedding(512, 768)\n",
      "      (token_type_embeddings): Embedding(2, 768)\n",
      "      (LayerNorm): LayerNorm((768,), eps=1e-12, elementwise_affine=True)\n",
      "      (dropout): Dropout(p=0.1, inplace=False)\n",
      "    )\n",
      "    (encoder): BertEncoder(\n",
      "      (layer): ModuleList(\n",
      "        (0-11): 12 x BertLayer(\n",
      "          (attention): BertAttention(\n",
      "            (self): BertSdpaSelfAttention(\n",
      "              (query): Linear(in_features=768, out_features=768, bias=True)\n",
      "              (key): Linear(in_features=768, out_features=768, bias=True)\n",
      "              (value): Linear(in_features=768, out_features=768, bias=True)\n",
      "              (dropout): Dropout(p=0.1, inplace=False)\n",
      "            )\n",
      "            (output): BertSelfOutput(\n",
      "              (dense): Linear(in_features=768, out_features=768, bias=True)\n",
      "              (LayerNorm): LayerNorm((768,), eps=1e-12, elementwise_affine=True)\n",
      "              (dropout): Dropout(p=0.1, inplace=False)\n",
      "            )\n",
      "          )\n",
      "          (intermediate): BertIntermediate(\n",
      "            (dense): Linear(in_features=768, out_features=3072, bias=True)\n",
      "            (intermediate_act_fn): GELUActivation()\n",
      "          )\n",
      "          (output): BertOutput(\n",
      "            (dense): Linear(in_features=3072, out_features=768, bias=True)\n",
      "            (LayerNorm): LayerNorm((768,), eps=1e-12, elementwise_affine=True)\n",
      "            (dropout): Dropout(p=0.1, inplace=False)\n",
      "          )\n",
      "        )\n",
      "      )\n",
      "    )\n",
      "    (pooler): BertPooler(\n",
      "      (dense): Linear(in_features=768, out_features=768, bias=True)\n",
      "      (activation): Tanh()\n",
      "    )\n",
      "  )\n",
      "  (dropout): Dropout(p=0.2, inplace=False)\n",
      "  (classifier): Linear(in_features=768, out_features=10, bias=True)\n",
      ")\n",
      "==================================================\n",
      "\n",
      "Detailed Model Summary:\n",
      "================================================================================================================================================================\n",
      "Layer (type:depth-idx)                                       Input Shape               Output Shape              Param #                   Trainable\n",
      "================================================================================================================================================================\n",
      "BertClassifier                                               [2, 64]                   [2, 10]                   --                        True\n",
      "├─BertModel: 1-1                                             --                        [2, 64, 768]              --                        True\n",
      "│    └─BertEmbeddings: 2-1                                   --                        [2, 64, 768]              --                        True\n",
      "│    │    └─Embedding: 3-1                                   [2, 64]                   [2, 64, 768]              23,440,896                True\n",
      "│    │    └─Embedding: 3-2                                   [2, 64]                   [2, 64, 768]              1,536                     True\n",
      "│    │    └─Embedding: 3-3                                   [1, 64]                   [1, 64, 768]              393,216                   True\n",
      "│    │    └─LayerNorm: 3-4                                   [2, 64, 768]              [2, 64, 768]              1,536                     True\n",
      "│    │    └─Dropout: 3-5                                     [2, 64, 768]              [2, 64, 768]              --                        --\n",
      "│    └─BertEncoder: 2-2                                      [2, 64, 768]              [2, 64, 768]              --                        True\n",
      "│    │    └─ModuleList: 3-6                                  --                        --                        85,054,464                True\n",
      "│    └─BertPooler: 2-3                                       [2, 64, 768]              [2, 768]                  --                        True\n",
      "│    │    └─Linear: 3-7                                      [2, 768]                  [2, 768]                  590,592                   True\n",
      "│    │    └─Tanh: 3-8                                        [2, 768]                  [2, 768]                  --                        --\n",
      "├─Dropout: 1-2                                               [2, 768]                  [2, 768]                  --                        --\n",
      "├─Linear: 1-3                                                [2, 768]                  [2, 10]                   7,690                     True\n",
      "================================================================================================================================================================\n",
      "Total params: 109,489,930\n",
      "Trainable params: 109,489,930\n",
      "Non-trainable params: 0\n",
      "Total mult-adds (M): 218.59\n",
      "================================================================================================================================================================\n",
      "Input size (MB): 0.00\n",
      "Forward/backward pass size (MB): 106.57\n",
      "Params size (MB): 437.96\n",
      "Estimated Total Size (MB): 544.54\n",
      "================================================================================================================================================================\n"
     ]
    }
   ],
   "source": [
    "# 1. Simple overview\n",
    "print(\"\\n\" + \"=\"*50)\n",
    "print(\"Model Architecture Overview:\")\n",
    "print(model)\n",
    "print(\"=\"*50 + \"\\n\")\n",
    "\n",
    "# 2. Detailed summary with torchinfo\n",
    "try:\n",
    "    from torchinfo import summary\n",
    "    print(\"Detailed Model Summary:\")\n",
    "    summary(model, \n",
    "            input_size=[(2, 64), (2, 64)],  # (batch, seq_len) for input_ids and attention_mask\n",
    "            dtypes=[torch.long, torch.long],\n",
    "            col_names=[\"input_size\", \"output_size\", \"num_params\", \"trainable\"],\n",
    "            verbose=1)\n",
    "except ImportError:\n",
    "    print(\"Install torchinfo for detailed summary: pip install torchinfo\")\n",
    "    \n",
    "    # 3. Fallback to parameter count\n",
    "    total_params = sum(p.numel() for p in model.parameters())\n",
    "    trainable_params = sum(p.numel() for p in model.parameters() if p.requires_grad)\n",
    "    print(f\"\\nTotal Parameters: {total_params:,}\")\n",
    "    print(f\"Trainable Parameters: {trainable_params:,}\")"
   ]
  },
  {
   "cell_type": "code",
   "execution_count": 23,
   "metadata": {
    "execution": {
     "iopub.execute_input": "2025-04-05T04:58:31.624279Z",
     "iopub.status.busy": "2025-04-05T04:58:31.623890Z",
     "iopub.status.idle": "2025-04-05T04:58:31.898306Z",
     "shell.execute_reply": "2025-04-05T04:58:31.897201Z",
     "shell.execute_reply.started": "2025-04-05T04:58:31.624227Z"
    }
   },
   "outputs": [
    {
     "name": "stdout",
     "output_type": "stream",
     "text": [
      "Output shape: torch.Size([2, 10])\n"
     ]
    }
   ],
   "source": [
    "# Test a single batch\n",
    "batch = next(iter(train_loader))\n",
    "outputs = model(\n",
    "    input_ids=batch['input_ids'].to(device),\n",
    "    attention_mask=batch['attention_mask'].to(device)\n",
    ")\n",
    "print(f\"Output shape: {outputs.shape}\")  # Should be [batch_size, num_classes]"
   ]
  },
  {
   "cell_type": "code",
   "execution_count": 24,
   "metadata": {
    "execution": {
     "iopub.execute_input": "2025-04-05T04:58:34.711113Z",
     "iopub.status.busy": "2025-04-05T04:58:34.710743Z",
     "iopub.status.idle": "2025-04-05T04:58:34.720233Z",
     "shell.execute_reply": "2025-04-05T04:58:34.719144Z",
     "shell.execute_reply.started": "2025-04-05T04:58:34.711082Z"
    }
   },
   "outputs": [
    {
     "name": "stdout",
     "output_type": "stream",
     "text": [
      "Probabilities sum to 1: True\n"
     ]
    }
   ],
   "source": [
    "probs = torch.softmax(outputs, dim=1)\n",
    "print(f\"Probabilities sum to 1: {torch.allclose(probs.sum(dim=1), torch.ones(probs.shape[0]).to(device))}\")"
   ]
  },
  {
   "cell_type": "code",
   "execution_count": null,
   "metadata": {},
   "outputs": [],
   "source": []
  },
  {
   "cell_type": "code",
   "execution_count": null,
   "metadata": {},
   "outputs": [],
   "source": []
  },
  {
   "cell_type": "code",
   "execution_count": null,
   "metadata": {},
   "outputs": [],
   "source": []
  },
  {
   "cell_type": "code",
   "execution_count": 2,
   "metadata": {},
   "outputs": [
    {
     "name": "stdout",
     "output_type": "stream",
     "text": [
      "Dataset with 100 rows and complete descriptions created as 'medical_symptoms_new_100.csv'\n"
     ]
    }
   ],
   "source": [
    "import pandas as pd\n",
    "from io import StringIO\n",
    "\n",
    "# 100-row medical symptom dataset\n",
    "data = \"\"\"\n",
    "Disease,Symptom,Description\n",
    "Common Cold,\"['runny nose', 'sore throat', 'cough', 'sneezing']\",\"Viral infection of upper respiratory tract\"\n",
    "Influenza,\"['fever', 'body aches', 'fatigue', 'headache']\",\"Viral infection causing systemic symptoms\"\n",
    "Allergies,\"['sneezing', 'itchy eyes', 'nasal congestion']\",\"Immune response to environmental triggers\"\n",
    "Migraine,\"['throbbing headache', 'nausea', 'light sensitivity']\",\"Neurological condition with severe headaches\"\n",
    "Gastroenteritis,\"['diarrhea', 'nausea', 'stomach cramps']\",\"Inflammation of stomach and intestines\"\n",
    "Bronchitis,\"['persistent cough', 'chest congestion', 'fatigue']\",\"Inflammation of bronchial tubes\"\n",
    "Sinusitis,\"['facial pain', 'nasal congestion', 'headache']\",\"Inflammation of sinus cavities\"\n",
    "Strep Throat,\"['sore throat', 'fever', 'swollen lymph nodes']\",\"Bacterial infection of the throat\"\n",
    "UTI,\"['burning urination', 'frequent urination', 'pelvic pain']\",\"Urinary tract infection\"\n",
    "Pneumonia,\"['cough', 'fever', 'shortness of breath']\",\"Lung infection causing inflammation\"\n",
    "Common Cold,\"['congestion', 'mild fever', 'sore throat']\",\"Mild viral infection affecting nose and throat\"\n",
    "Influenza,\"['high fever', 'chills', 'muscle pain']\",\"Acute respiratory illness with systemic effects\"\n",
    "Allergies,\"['watery eyes', 'sneezing fits', 'postnasal drip']\",\"Hypersensitivity reaction to allergens\"\n",
    "Migraine,\"['aura', 'vomiting', 'sound sensitivity']\",\"Severe headache disorder with sensory disturbances\"\n",
    "Gastroenteritis,\"['vomiting', 'dehydration', 'loss of appetite']\",\"Acute inflammation of gastrointestinal tract\"\n",
    "Bronchitis,\"['wheezing', 'shortness of breath', 'mucus production']\",\"Lower respiratory tract inflammation\"\n",
    "Sinusitis,\"['toothache', 'bad breath', 'green nasal discharge']\",\"Bacterial or viral sinus infection\"\n",
    "Strep Throat,\"['white patches on throat', 'difficulty swallowing']\",\"Streptococcal pharyngitis infection\"\n",
    "UTI,\"['cloudy urine', 'strong urine odor', 'pelvic pressure']\",\"Bacterial infection in urinary system\"\n",
    "Pneumonia,\"['chest pain', 'sweating', 'rapid breathing']\",\"Alveolar inflammation in lungs\"\n",
    "Common Cold,\"['hoarse voice', 'mild cough', 'low energy']\",\"Upper respiratory viral infection\"\n",
    "Influenza,\"['extreme fatigue', 'dry cough', 'loss of appetite']\",\"Seasonal flu with severe exhaustion\"\n",
    "Allergies,\"['itchy throat', 'ear congestion', 'dark circles under eyes']\",\"Chronic allergic response\"\n",
    "Migraine,\"['visual disturbances', 'dizziness', 'neck pain']\",\"Neurological headache with aura symptoms\"\n",
    "Gastroenteritis,\"['bloating', 'gas', 'low-grade fever']\",\"Stomach and intestinal inflammation\"\n",
    "Bronchitis,\"['chest tightness', 'slight fever', 'wheezing']\",\"Acute bronchial tube inflammation\"\n",
    "Sinusitis,\"['ear pressure', 'reduced smell', 'jaw pain']\",\"Chronic sinus cavity inflammation\"\n",
    "Strep Throat,\"['red spots on roof of mouth', 'headache']\",\"Streptococcal bacterial infection\"\n",
    "UTI,\"['lower back pain', 'urge to urinate', 'blood in urine']\",\"Possible kidney involvement\"\n",
    "Pneumonia,\"['confusion (in elderly)', 'bluish lips', 'rapid pulse']\",\"Severe lung infection with hypoxia\"\n",
    "Common Cold,\"['slight body aches', 'watery eyes', 'tickle in throat']\",\"Mild upper respiratory infection\"\n",
    "Influenza,\"['stuffy nose', 'sore throat', 'eye pain']\",\"Viral respiratory illness with systemic effects\"\n",
    "Allergies,\"['itchy ears', 'scratchy throat', 'recurrent sneezing']\",\"Seasonal allergic rhinitis\"\n",
    "Migraine,\"['one-sided pain', 'worsened by movement', 'irritability']\",\"Unilateral headache disorder\"\n",
    "Gastroenteritis,\"['general weakness', 'muscle aches', 'mild headache']\",\"Viral stomach flu with dehydration risk\"\n",
    "Bronchitis,\"['hacking cough', 'soreness behind sternum', 'chills']\",\"Acute viral bronchitis\"\n",
    "Sinusitis,\"['pressure behind eyes', 'tooth sensitivity', 'ear fullness']\",\"Acute bacterial sinusitis\"\n",
    "Strep Throat,\"['sandpaper-like rash', 'stomach pain (in children)']\",\"Scarlet fever manifestation\"\n",
    "UTI,\"['pelvic discomfort', 'urinating small amounts']\",\"Cystitis or lower UTI\"\n",
    "Pneumonia,\"['shaking chills', 'nausea', 'diarrhea (in some cases)']\",\"Lobar pneumonia presentation\"\n",
    "Common Cold,\"['post-nasal drip', 'mild fatigue', 'occasional cough']\",\"Post-viral upper respiratory symptoms\"\n",
    "Influenza,\"['sudden onset fever', 'weakness', 'loss of taste']\",\"Acute influenza infection\"\n",
    "Allergies,\"['itchy palate', 'clear nasal discharge', 'cough']\",\"Perennial allergic rhinitis\"\n",
    "Migraine,\"['prodrome symptoms', 'yawning', 'food cravings']\",\"Premonitory phase of migraine\"\n",
    "Gastroenteritis,\"['abdominal tenderness', 'general malaise']\",\"Infectious gastroenteritis\"\n",
    "Bronchitis,\"['rattling sensation in chest', 'hoarseness']\",\"Chronic bronchitis symptoms\"\n",
    "Sinusitis,\"['thick yellow mucus', 'cough worse at night']\",\"Purulent sinus infection\"\n",
    "Strep Throat,\"['swollen tonsils', 'petechiae on palate']\",\"Acute streptococcal tonsillitis\"\n",
    "UTI,\"['feeling of incomplete emptying', 'pressure in lower abdomen']\",\"Urinary retention symptoms\"\n",
    "Pneumonia,\"['rust-colored sputum', 'mental confusion']\",\"Pneumococcal pneumonia signs\"\n",
    "Common Cold,\"['tickle in chest', 'mild ear pressure']\",\"Post-viral cough symptoms\"\n",
    "Influenza,\"['pain behind eyes', 'extreme exhaustion']\",\"Severe influenza manifestation\"\n",
    "Allergies,\"['itchy skin', 'recurrent throat clearing']\",\"Atopic allergic response\"\n",
    "Migraine,\"['neck stiffness', 'difficulty concentrating']\",\"Cervicogenic migraine features\"\n",
    "Gastroenteritis,\"['gurgling stomach', 'decreased urine output']\",\"Dehydrating gastroenteritis\"\n",
    "Bronchitis,\"['painful coughing', 'sore ribs from coughing']\",\"Persistent bronchial inflammation\"\n",
    "Sinusitis,\"['facial tenderness', 'blocked ears']\",\"Acute maxillary sinusitis\"\n",
    "Strep Throat,\"['abdominal pain in children', 'sandpaper rash']\",\"Pediatric streptococcal infection\"\n",
    "UTI,\"['fever (if kidney infection)', 'flank pain']\",\"Pyelonephritis symptoms\"\n",
    "Pneumonia,\"['grunting sounds when breathing', 'nasal flaring']\",\"Severe respiratory distress\"\n",
    "Common Cold,\"['mild swollen glands', 'scratchy throat']\",\"Lymph node response to infection\"\n",
    "Influenza,\"['sweating', 'shivering alternately']\",\"Febrile influenza symptoms\"\n",
    "Allergies,\"['itchy roof of mouth', 'snoring from congestion']\",\"Chronic allergic congestion\"\n",
    "Migraine,\"['light flashes', 'zigzag patterns in vision']\",\"Migraine with visual aura\"\n",
    "Gastroenteritis,\"['acidic taste in mouth', 'excessive thirst']\",\"Gastroesophageal reflux symptoms\"\n",
    "Bronchitis,\"['breathlessness', 'tight feeling in chest']\",\"Obstructive airway symptoms\"\n",
    "Sinusitis,\"['mucus dripping down throat', 'ear popping']\",\"Chronic postnasal drip\"\n",
    "Strep Throat,\"['difficulty opening mouth', 'red swollen tonsils']\",\"Acute tonsillar inflammation\"\n",
    "UTI,\"['foul-smelling urine', 'pelvic heaviness']\",\"Bacterial urinary infection\"\n",
    "Pneumonia,\"['shallow breathing', 'loss of appetite']\",\"Atypical pneumonia presentation\"\n",
    "Common Cold,\"['mild hoarseness', 'occasional sneezing']\",\"Laryngitis with cold symptoms\"\n",
    "Influenza,\"['joint pain', 'sensitivity to light']\",\"Systemic influenza symptoms\"\n",
    "Allergies,\"['itchy inner ears', 'recurrent sinus infections']\",\"Chronic allergic sinusitis\"\n",
    "Migraine,\"['tingling in face/hands', 'slurred speech']\",\"Complex migraine with aura\"\n",
    "Gastroenteritis,\"['pale skin', 'sunken eyes (in severe cases)']\",\"Severe dehydration signs\"\n",
    "Bronchitis,\"['blue-tinged lips (in severe cases)', 'fever over 100.4F']\",\"Hypoxic respiratory distress\"\n",
    "Sinusitis,\"['reduced sense of taste', 'earache']\",\"Olfactory dysfunction in sinusitis\"\n",
    "Strep Throat,\"['tiny red spots on tongue', 'strawberry tongue']\",\"Scarlet fever tongue signs\"\n",
    "UTI,\"['pain during intercourse', 'general unease']\",\"Chronic urinary symptoms\"\n",
    "Pneumonia,\"['clammy skin', 'fatigue disproportionate to activity']\",\"Severe systemic infection\"\n",
    "\"\"\"\n",
    "\n",
    "# Create DataFrame\n",
    "df = pd.read_csv(StringIO(data))\n",
    "\n",
    "# Save to CSV\n",
    "df.to_csv('medical_symptoms_new_100.csv', index=False)\n",
    "print(\"Dataset with 100 rows and complete descriptions created as 'medical_symptoms_new_100.csv'\")"
   ]
  }
 ],
 "metadata": {
  "kaggle": {
   "accelerator": "none",
   "dataSources": [],
   "dockerImageVersionId": 30918,
   "isGpuEnabled": false,
   "isInternetEnabled": true,
   "language": "python",
   "sourceType": "notebook"
  },
  "kernelspec": {
   "display_name": "Python [conda env:base] *",
   "language": "python",
   "name": "conda-base-py"
  },
  "language_info": {
   "codemirror_mode": {
    "name": "ipython",
    "version": 3
   },
   "file_extension": ".py",
   "mimetype": "text/x-python",
   "name": "python",
   "nbconvert_exporter": "python",
   "pygments_lexer": "ipython3",
   "version": "3.12.7"
  }
 },
 "nbformat": 4,
 "nbformat_minor": 4
}
